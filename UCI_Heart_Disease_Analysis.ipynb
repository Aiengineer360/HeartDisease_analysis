{
  "nbformat": 4,
  "nbformat_minor": 0,
  "metadata": {
    "colab": {
      "provenance": [],
      "authorship_tag": "ABX9TyO10w5cT6oXyhZYbGc7/YNO",
      "include_colab_link": true
    },
    "kernelspec": {
      "name": "python3",
      "display_name": "Python 3"
    },
    "language_info": {
      "name": "python"
    }
  },
  "cells": [
    {
      "cell_type": "markdown",
      "metadata": {
        "id": "view-in-github",
        "colab_type": "text"
      },
      "source": [
        "<a href=\"https://colab.research.google.com/github/Aiengineer360/HeartDisease_analysis/blob/main/UCI_Heart_Disease_Analysis.ipynb\" target=\"_parent\"><img src=\"https://colab.research.google.com/assets/colab-badge.svg\" alt=\"Open In Colab\"/></a>"
      ]
    },
    {
      "cell_type": "markdown",
      "source": [
        "##Heart Disease Analysis"
      ],
      "metadata": {
        "id": "Fbm9sl9WJbYb"
      }
    },
    {
      "cell_type": "markdown",
      "source": [
        "####Import Libraries"
      ],
      "metadata": {
        "id": "XDfVoo9k8Xnv"
      }
    },
    {
      "cell_type": "code",
      "execution_count": 1,
      "metadata": {
        "id": "tYgwTMeX7xJn"
      },
      "outputs": [],
      "source": [
        "import pandas as pd\n",
        "import numpy as np\n",
        "import seaborn as sns\n",
        "import matplotlib.pyplot as plt"
      ]
    },
    {
      "cell_type": "code",
      "source": [
        "heart_disease_df = pd.read_csv('heart_disease_uci.csv')"
      ],
      "metadata": {
        "id": "TgjosJQ88WBJ"
      },
      "execution_count": 2,
      "outputs": []
    },
    {
      "cell_type": "markdown",
      "source": [
        "####Rows and Columns in Dataset"
      ],
      "metadata": {
        "id": "Ux5QpWJZ9DDU"
      }
    },
    {
      "cell_type": "code",
      "source": [
        "heart_disease_df.shape"
      ],
      "metadata": {
        "colab": {
          "base_uri": "https://localhost:8080/"
        },
        "id": "bnQyVlVj9D0d",
        "outputId": "01874c8d-9491-4112-ae21-3cba5ea955cf"
      },
      "execution_count": 3,
      "outputs": [
        {
          "output_type": "execute_result",
          "data": {
            "text/plain": [
              "(920, 16)"
            ]
          },
          "metadata": {},
          "execution_count": 3
        }
      ]
    },
    {
      "cell_type": "markdown",
      "source": [
        "####Missing values"
      ],
      "metadata": {
        "id": "x2BXS1kC9VqA"
      }
    },
    {
      "cell_type": "code",
      "source": [
        "heart_disease_df.isnull().sum()"
      ],
      "metadata": {
        "colab": {
          "base_uri": "https://localhost:8080/",
          "height": 586
        },
        "id": "A4mvsovQ9Wf5",
        "outputId": "ab2d933e-21f8-446d-d1c8-9d9576e739a3"
      },
      "execution_count": 4,
      "outputs": [
        {
          "output_type": "execute_result",
          "data": {
            "text/plain": [
              "id            0\n",
              "age           0\n",
              "sex           0\n",
              "dataset       0\n",
              "cp            0\n",
              "trestbps     59\n",
              "chol         30\n",
              "fbs          90\n",
              "restecg       2\n",
              "thalch       55\n",
              "exang        55\n",
              "oldpeak      62\n",
              "slope       309\n",
              "ca          611\n",
              "thal        486\n",
              "num           0\n",
              "dtype: int64"
            ],
            "text/html": [
              "<div>\n",
              "<style scoped>\n",
              "    .dataframe tbody tr th:only-of-type {\n",
              "        vertical-align: middle;\n",
              "    }\n",
              "\n",
              "    .dataframe tbody tr th {\n",
              "        vertical-align: top;\n",
              "    }\n",
              "\n",
              "    .dataframe thead th {\n",
              "        text-align: right;\n",
              "    }\n",
              "</style>\n",
              "<table border=\"1\" class=\"dataframe\">\n",
              "  <thead>\n",
              "    <tr style=\"text-align: right;\">\n",
              "      <th></th>\n",
              "      <th>0</th>\n",
              "    </tr>\n",
              "  </thead>\n",
              "  <tbody>\n",
              "    <tr>\n",
              "      <th>id</th>\n",
              "      <td>0</td>\n",
              "    </tr>\n",
              "    <tr>\n",
              "      <th>age</th>\n",
              "      <td>0</td>\n",
              "    </tr>\n",
              "    <tr>\n",
              "      <th>sex</th>\n",
              "      <td>0</td>\n",
              "    </tr>\n",
              "    <tr>\n",
              "      <th>dataset</th>\n",
              "      <td>0</td>\n",
              "    </tr>\n",
              "    <tr>\n",
              "      <th>cp</th>\n",
              "      <td>0</td>\n",
              "    </tr>\n",
              "    <tr>\n",
              "      <th>trestbps</th>\n",
              "      <td>59</td>\n",
              "    </tr>\n",
              "    <tr>\n",
              "      <th>chol</th>\n",
              "      <td>30</td>\n",
              "    </tr>\n",
              "    <tr>\n",
              "      <th>fbs</th>\n",
              "      <td>90</td>\n",
              "    </tr>\n",
              "    <tr>\n",
              "      <th>restecg</th>\n",
              "      <td>2</td>\n",
              "    </tr>\n",
              "    <tr>\n",
              "      <th>thalch</th>\n",
              "      <td>55</td>\n",
              "    </tr>\n",
              "    <tr>\n",
              "      <th>exang</th>\n",
              "      <td>55</td>\n",
              "    </tr>\n",
              "    <tr>\n",
              "      <th>oldpeak</th>\n",
              "      <td>62</td>\n",
              "    </tr>\n",
              "    <tr>\n",
              "      <th>slope</th>\n",
              "      <td>309</td>\n",
              "    </tr>\n",
              "    <tr>\n",
              "      <th>ca</th>\n",
              "      <td>611</td>\n",
              "    </tr>\n",
              "    <tr>\n",
              "      <th>thal</th>\n",
              "      <td>486</td>\n",
              "    </tr>\n",
              "    <tr>\n",
              "      <th>num</th>\n",
              "      <td>0</td>\n",
              "    </tr>\n",
              "  </tbody>\n",
              "</table>\n",
              "</div><br><label><b>dtype:</b> int64</label>"
            ]
          },
          "metadata": {},
          "execution_count": 4
        }
      ]
    },
    {
      "cell_type": "markdown",
      "source": [
        "####Count of patients with and without Heart Disease"
      ],
      "metadata": {
        "id": "r4IOsEPc9qHB"
      }
    },
    {
      "cell_type": "code",
      "source": [
        "target_distribution = heart_disease_df['num'].value_counts()\n",
        "patients_with_disease = target_distribution.get(1, 0)\n",
        "patients_without_disease = target_distribution.get(0, 0)\n",
        "target_distribution, patients_with_disease, patients_without_disease"
      ],
      "metadata": {
        "colab": {
          "base_uri": "https://localhost:8080/"
        },
        "id": "rWIxooIr9qpV",
        "outputId": "044fa236-3313-4222-b5a6-b3c9aa98beaa"
      },
      "execution_count": 5,
      "outputs": [
        {
          "output_type": "execute_result",
          "data": {
            "text/plain": [
              "(num\n",
              " 0    411\n",
              " 1    265\n",
              " 2    109\n",
              " 3    107\n",
              " 4     28\n",
              " Name: count, dtype: int64,\n",
              " 265,\n",
              " 411)"
            ]
          },
          "metadata": {},
          "execution_count": 5
        }
      ]
    },
    {
      "cell_type": "markdown",
      "source": [
        "####Age Distribution of heart disease"
      ],
      "metadata": {
        "id": "n2aoI8We-hJ4"
      }
    },
    {
      "cell_type": "code",
      "source": [
        "# Determine the age range of patients in the dataset\n",
        "age_min = heart_disease_df['age'].min()\n",
        "age_max = heart_disease_df['age'].max()\n",
        "\n",
        "age_min, age_max\n"
      ],
      "metadata": {
        "id": "Si5ZtsI7-hm2",
        "colab": {
          "base_uri": "https://localhost:8080/"
        },
        "outputId": "408deb18-a6a7-4108-d95a-0b32254900b4"
      },
      "execution_count": 6,
      "outputs": [
        {
          "output_type": "execute_result",
          "data": {
            "text/plain": [
              "(28, 77)"
            ]
          },
          "metadata": {},
          "execution_count": 6
        }
      ]
    },
    {
      "cell_type": "markdown",
      "source": [
        "####Gender Distribution"
      ],
      "metadata": {
        "id": "yF9PbK2MAcmH"
      }
    },
    {
      "cell_type": "code",
      "source": [
        "# Determine the gender distribution (assuming 0 = female, 1 = male)\n",
        "gender_distribution = heart_disease_df['sex'].value_counts()\n",
        "\n",
        "gender_distribution"
      ],
      "metadata": {
        "colab": {
          "base_uri": "https://localhost:8080/",
          "height": 178
        },
        "id": "ACxw-UYEAdIj",
        "outputId": "20642072-2440-4567-a88c-e0ced67c3417"
      },
      "execution_count": 7,
      "outputs": [
        {
          "output_type": "execute_result",
          "data": {
            "text/plain": [
              "sex\n",
              "Male      726\n",
              "Female    194\n",
              "Name: count, dtype: int64"
            ],
            "text/html": [
              "<div>\n",
              "<style scoped>\n",
              "    .dataframe tbody tr th:only-of-type {\n",
              "        vertical-align: middle;\n",
              "    }\n",
              "\n",
              "    .dataframe tbody tr th {\n",
              "        vertical-align: top;\n",
              "    }\n",
              "\n",
              "    .dataframe thead th {\n",
              "        text-align: right;\n",
              "    }\n",
              "</style>\n",
              "<table border=\"1\" class=\"dataframe\">\n",
              "  <thead>\n",
              "    <tr style=\"text-align: right;\">\n",
              "      <th></th>\n",
              "      <th>count</th>\n",
              "    </tr>\n",
              "    <tr>\n",
              "      <th>sex</th>\n",
              "      <th></th>\n",
              "    </tr>\n",
              "  </thead>\n",
              "  <tbody>\n",
              "    <tr>\n",
              "      <th>Male</th>\n",
              "      <td>726</td>\n",
              "    </tr>\n",
              "    <tr>\n",
              "      <th>Female</th>\n",
              "      <td>194</td>\n",
              "    </tr>\n",
              "  </tbody>\n",
              "</table>\n",
              "</div><br><label><b>dtype:</b> int64</label>"
            ]
          },
          "metadata": {},
          "execution_count": 7
        }
      ]
    },
    {
      "cell_type": "markdown",
      "source": [
        "####Average\n",
        "#####○ Resting blood pressure (trestbps)\n",
        "#####○ Serum cholesterol (chol)\n",
        "#####○ Maximum heart rate (thalach)"
      ],
      "metadata": {
        "id": "Pe_um4goCVEf"
      }
    },
    {
      "cell_type": "code",
      "source": [
        "# Calculate the average for the specified health metrics\n",
        "average_trestbps = heart_disease_df['trestbps'].mean()\n",
        "average_chol = heart_disease_df['chol'].mean()\n",
        "average_thalach = heart_disease_df['thalch'].mean()\n",
        "\n",
        "(average_trestbps, average_chol, average_thalach)\n"
      ],
      "metadata": {
        "colab": {
          "base_uri": "https://localhost:8080/"
        },
        "id": "x6KsqiO6CV4W",
        "outputId": "cfb87b77-8212-4410-e5b3-5293a5f71136"
      },
      "execution_count": 8,
      "outputs": [
        {
          "output_type": "execute_result",
          "data": {
            "text/plain": [
              "(132.13240418118468, 199.13033707865168, 137.5456647398844)"
            ]
          },
          "metadata": {},
          "execution_count": 8
        }
      ]
    },
    {
      "cell_type": "markdown",
      "source": [
        "####Median:\n",
        "#####○ Resting blood pressure (trestbps)\n",
        "#####○ Serum cholesterol (chol)\n",
        "#####○ Maximum heart rate (thalach)"
      ],
      "metadata": {
        "id": "GquZcbF_DQxc"
      }
    },
    {
      "cell_type": "code",
      "source": [
        "median_trestbps = heart_disease_df['trestbps'].median()\n",
        "median_chol = heart_disease_df['chol'].median()\n",
        "median_thalach = heart_disease_df['thalch'].median()\n",
        "\n",
        "(median_trestbps, median_chol, median_thalach)"
      ],
      "metadata": {
        "colab": {
          "base_uri": "https://localhost:8080/"
        },
        "id": "TpXaoW7wDRJj",
        "outputId": "b446cca0-834d-42a6-c405-d0c66ee95ec1"
      },
      "execution_count": 9,
      "outputs": [
        {
          "output_type": "execute_result",
          "data": {
            "text/plain": [
              "(130.0, 223.0, 140.0)"
            ]
          },
          "metadata": {},
          "execution_count": 9
        }
      ]
    },
    {
      "cell_type": "markdown",
      "source": [
        "####Count of patients with and without exercise-induced angina"
      ],
      "metadata": {
        "id": "lbGMxU0nD87W"
      }
    },
    {
      "cell_type": "code",
      "source": [
        "# Calculate the count of patients with and without exercise-induced angina (exang: 1 = yes, 0 = no)\n",
        "exercise_induced_angina = heart_disease_df['exang'].value_counts()\n",
        "\n",
        "# Accessing values using .loc to avoid the FutureWarning\n",
        "patients_with_angina = exercise_induced_angina.loc[1] if 1 in exercise_induced_angina.index else 0\n",
        "patients_without_angina = exercise_induced_angina.loc[0] if 0 in exercise_induced_angina.index else 0\n",
        "\n",
        "exercise_induced_angina, patients_with_angina, patients_without_angina\n"
      ],
      "metadata": {
        "colab": {
          "base_uri": "https://localhost:8080/"
        },
        "id": "o-7ECOVUD9iv",
        "outputId": "df1fb1d9-02be-423e-ce8e-d78c2b7494ae"
      },
      "execution_count": 10,
      "outputs": [
        {
          "output_type": "execute_result",
          "data": {
            "text/plain": [
              "(exang\n",
              " False    528\n",
              " True     337\n",
              " Name: count, dtype: int64,\n",
              " 337,\n",
              " 528)"
            ]
          },
          "metadata": {},
          "execution_count": 10
        }
      ]
    },
    {
      "cell_type": "markdown",
      "source": [
        "####Counts of Chest Pain Types"
      ],
      "metadata": {
        "id": "d7ykUUsPEmYj"
      }
    },
    {
      "cell_type": "code",
      "source": [
        "# Calculate the counts of different chest pain types (cp)\n",
        "chest_pain_counts = heart_disease_df['cp'].value_counts()\n",
        "\n",
        "chest_pain_counts\n"
      ],
      "metadata": {
        "colab": {
          "base_uri": "https://localhost:8080/",
          "height": 241
        },
        "id": "cwMcHZ2sEnJ2",
        "outputId": "ad6dc40f-bb19-4b89-dd81-fdd72c60694a"
      },
      "execution_count": 11,
      "outputs": [
        {
          "output_type": "execute_result",
          "data": {
            "text/plain": [
              "cp\n",
              "asymptomatic       496\n",
              "non-anginal        204\n",
              "atypical angina    174\n",
              "typical angina      46\n",
              "Name: count, dtype: int64"
            ],
            "text/html": [
              "<div>\n",
              "<style scoped>\n",
              "    .dataframe tbody tr th:only-of-type {\n",
              "        vertical-align: middle;\n",
              "    }\n",
              "\n",
              "    .dataframe tbody tr th {\n",
              "        vertical-align: top;\n",
              "    }\n",
              "\n",
              "    .dataframe thead th {\n",
              "        text-align: right;\n",
              "    }\n",
              "</style>\n",
              "<table border=\"1\" class=\"dataframe\">\n",
              "  <thead>\n",
              "    <tr style=\"text-align: right;\">\n",
              "      <th></th>\n",
              "      <th>count</th>\n",
              "    </tr>\n",
              "    <tr>\n",
              "      <th>cp</th>\n",
              "      <th></th>\n",
              "    </tr>\n",
              "  </thead>\n",
              "  <tbody>\n",
              "    <tr>\n",
              "      <th>asymptomatic</th>\n",
              "      <td>496</td>\n",
              "    </tr>\n",
              "    <tr>\n",
              "      <th>non-anginal</th>\n",
              "      <td>204</td>\n",
              "    </tr>\n",
              "    <tr>\n",
              "      <th>atypical angina</th>\n",
              "      <td>174</td>\n",
              "    </tr>\n",
              "    <tr>\n",
              "      <th>typical angina</th>\n",
              "      <td>46</td>\n",
              "    </tr>\n",
              "  </tbody>\n",
              "</table>\n",
              "</div><br><label><b>dtype:</b> int64</label>"
            ]
          },
          "metadata": {},
          "execution_count": 11
        }
      ]
    },
    {
      "cell_type": "markdown",
      "source": [
        "####Age distribution of patients"
      ],
      "metadata": {
        "id": "7sgOuAQ5E-xD"
      }
    },
    {
      "cell_type": "code",
      "source": [
        "# Plotting age distribution\n",
        "plt.figure(figsize=(5,3))\n",
        "sns.histplot(heart_disease_df['age'], kde=True, bins=20, color='blue')\n",
        "plt.title('Age Distribution of Patients')\n",
        "plt.xlabel('Age')\n",
        "plt.ylabel('Frequency')\n",
        "plt.show()"
      ],
      "metadata": {
        "colab": {
          "base_uri": "https://localhost:8080/",
          "height": 333
        },
        "id": "HnNMbpPiE_bu",
        "outputId": "7a3c744d-03e2-4639-f48e-7d54b8c7569b"
      },
      "execution_count": 12,
      "outputs": [
        {
          "output_type": "display_data",
          "data": {
            "text/plain": [
              "<Figure size 500x300 with 1 Axes>"
            ],
            "image/png": "[encoded data removed]"
          },
          "metadata": {}
        }
      ]
    },
    {
      "cell_type": "markdown",
      "source": [
        "####Graph between Average Cholesterol Levels: With vs. Without Heart Disease"
      ],
      "metadata": {
        "id": "-lOORLIWGHep"
      }
    },
    {
      "cell_type": "code",
      "source": [
        "# Divide patients into groups: with and without heart disease\n",
        "patients_with_disease = heart_disease_df[heart_disease_df['num'] > 0]\n",
        "patients_without_disease = heart_disease_df[heart_disease_df['num'] == 0]\n",
        "\n",
        "# Calculate average cholesterol levels\n",
        "avg_chol_with_disease = patients_with_disease['chol'].mean()\n",
        "avg_chol_without_disease = patients_without_disease['chol'].mean()\n",
        "\n",
        "# Create a DataFrame for the bar plot\n",
        "chol_df = pd.DataFrame({  # Creating the chol_df DataFrame\n",
        "    'Condition': ['With Heart Disease', 'Without Heart Disease'],\n",
        "    'Average Cholesterol': [avg_chol_with_disease, avg_chol_without_disease]\n",
        "})\n",
        "\n",
        "# Corrected visualization for average cholesterol levels\n",
        "plt.figure(figsize=(5, 3))\n",
        "sns.barplot(\n",
        "    x='Condition',\n",
        "    y='Average Cholesterol',\n",
        "    hue='Condition',  # Assign x variable to hue\n",
        "    data=chol_df,  # Use the created DataFrame\n",
        "    dodge=False,      # Disable dodge since hue is the same as x\n",
        "    legend=False,     # Disable legend\n",
        "    palette='viridis'\n",
        ")\n",
        "plt.title('Average Cholesterol Levels: With vs. Without Heart Disease')\n",
        "plt.xlabel('Condition')\n",
        "plt.ylabel('Average Cholesterol')\n",
        "plt.show()"
      ],
      "metadata": {
        "colab": {
          "base_uri": "https://localhost:8080/",
          "height": 333
        },
        "id": "-r6JFgqFGMgk",
        "outputId": "ffea1ad6-80de-42bb-c984-0f0f1998de21"
      },
      "execution_count": 16,
      "outputs": [
        {
          "output_type": "display_data",
          "data": {
            "text/plain": [
              "<Figure size 500x300 with 1 Axes>"
            ],
            "image/png": "[encoded data removed]"
          },
          "metadata": {}
        }
      ]
    },
    {
      "cell_type": "markdown",
      "source": [
        "####Define the IQR and Outlier Detection Function\n",
        "\n"
      ],
      "metadata": {
        "id": "qIwmIQ80LZIe"
      }
    },
    {
      "cell_type": "code",
      "source": [
        "def detect_outliers(series):\n",
        "    Q1 = series.quantile(0.25)  # First quartile\n",
        "    Q3 = series.quantile(0.75)  # Third quartile\n",
        "    IQR = Q3 - Q1              # Interquartile range\n",
        "    lower_bound = Q1 - 1.5 * IQR\n",
        "    upper_bound = Q3 + 1.5 * IQR\n",
        "    return series[(series < lower_bound) | (series > upper_bound)]"
      ],
      "metadata": {
        "id": "HD0-fBFZLfXS"
      },
      "execution_count": 17,
      "outputs": []
    },
    {
      "cell_type": "markdown",
      "source": [
        "####Identify Outliers in chol and trestbps"
      ],
      "metadata": {
        "id": "rgUrOp2yLpFp"
      }
    },
    {
      "cell_type": "code",
      "source": [
        "# Detect outliers\n",
        "chol_outliers = detect_outliers(heart_disease_df['chol'])\n",
        "trestbps_outliers = detect_outliers(heart_disease_df['trestbps'])\n",
        "\n",
        "# Results\n",
        "print(f\"Number of outliers in cholesterol: {len(chol_outliers)}\")\n",
        "print(f\"Number of outliers in resting blood pressure: {len(trestbps_outliers)}\")\n",
        "\n",
        "# Display the outlier values if needed\n",
        "print(\"Cholesterol Outliers:\", chol_outliers.values)\n",
        "print(\"Resting Blood Pressure Outliers:\", trestbps_outliers.values)"
      ],
      "metadata": {
        "colab": {
          "base_uri": "https://localhost:8080/"
        },
        "id": "HH2WY4RrLvl4",
        "outputId": "9d651540-8de7-4dcd-fd92-596794c9af28"
      },
      "execution_count": 19,
      "outputs": [
        {
          "output_type": "stream",
          "name": "stdout",
          "text": [
            "Number of outliers in cholesterol: 183\n",
            "Number of outliers in resting blood pressure: 28\n",
            "Cholesterol Outliers: [417. 564. 409. 412. 468. 466. 529. 603. 518. 491.   0.   0.   0.   0.\n",
            "   0.   0.   0.   0.   0.   0.   0.   0.   0.   0.   0.   0.   0.   0.\n",
            "   0.   0.   0.   0.   0.   0.   0.   0.   0.   0.   0.   0.   0.   0.\n",
            "   0.   0.   0.   0.   0.   0.   0.   0.   0.   0.   0.   0.   0.   0.\n",
            "   0.   0.   0.   0.   0.   0.   0.   0.   0.   0.   0.   0.   0.   0.\n",
            "   0.   0.   0.   0.   0.   0.   0.   0.   0.   0.   0.   0.   0.   0.\n",
            "   0.   0.   0.   0.   0.   0.   0.   0.   0.   0.   0.   0.   0.   0.\n",
            "   0.   0.   0.   0.   0.   0.   0.   0.   0.   0.   0.   0.   0.   0.\n",
            "   0.   0.   0.   0.   0.   0.   0.   0.   0.   0.   0.   0.   0.   0.\n",
            "   0.   0.   0.   0.   0.   0.   0.   0.   0.   0.   0.   0.   0.   0.\n",
            "   0.   0.   0.   0.   0.   0.   0.   0.   0.   0.   0.   0.   0.   0.\n",
            "   0.   0.   0.   0.   0.   0.   0.   0.   0.   0.   0.   0.   0.   0.\n",
            "   0.   0.   0.   0.   0.   0.   0.   0. 458.   0.   0.   0.   0.   0.\n",
            "   0.]\n",
            "Resting Blood Pressure Outliers: [172. 180. 200. 174. 178. 192. 180. 178. 180. 190. 180. 180. 180. 180.\n",
            " 200. 180. 180.  80. 180. 200. 185. 200. 180.   0. 178. 172. 180. 190.]\n"
          ]
        }
      ]
    },
    {
      "cell_type": "markdown",
      "source": [
        "####Visualize Outliers with Boxplots"
      ],
      "metadata": {
        "id": "6r6kjRF6L_W7"
      }
    },
    {
      "cell_type": "code",
      "source": [
        "import matplotlib.pyplot as plt\n",
        "import seaborn as sns\n",
        "\n",
        "# Plot boxplots to visualize outliers\n",
        "plt.figure(figsize=(8, 4))\n",
        "\n",
        "# Cholesterol boxplot\n",
        "plt.subplot(1, 2, 1)\n",
        "sns.boxplot(x=heart_disease_df['chol'], color='orange')\n",
        "plt.title('Cholesterol (chol) Boxplot')\n",
        "\n",
        "# Resting blood pressure boxplot\n",
        "plt.subplot(1, 2, 2)\n",
        "sns.boxplot(x=heart_disease_df['trestbps'], color='skyblue')\n",
        "plt.title('Resting Blood Pressure (trestbps) Boxplot')\n",
        "\n",
        "plt.tight_layout()\n",
        "plt.show()"
      ],
      "metadata": {
        "colab": {
          "base_uri": "https://localhost:8080/",
          "height": 407
        },
        "id": "N-4b_95LL_61",
        "outputId": "5d260448-596f-46fe-c7ee-e2f474f0f4fa"
      },
      "execution_count": 21,
      "outputs": [
        {
          "output_type": "display_data",
          "data": {
            "text/plain": [
              "<Figure size 800x400 with 2 Axes>"
            ],
            "image/png": "[encoded data removed]"
          },
          "metadata": {}
        }
      ]
    }
  ]
}